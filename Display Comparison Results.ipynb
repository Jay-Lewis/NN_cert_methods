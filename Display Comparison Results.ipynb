{
 "cells": [
  {
   "cell_type": "code",
   "execution_count": null,
   "metadata": {},
   "outputs": [],
   "source": [
    "##################################################################################\n",
    "#                                                                                #\n",
    "#                         Display Comparison Results                             #\n",
    "#                                                                                #\n",
    "##################################################################################"
   ]
  },
  {
   "cell_type": "code",
   "execution_count": 5,
   "metadata": {},
   "outputs": [],
   "source": [
    "# =====================\n",
    "# Imports\n",
    "# =====================\n",
    "import os\n",
    "from os import listdir\n",
    "from os.path import isfile, join"
   ]
  },
  {
   "cell_type": "code",
   "execution_count": 6,
   "metadata": {},
   "outputs": [],
   "source": [
    "def mean(elements):\n",
    "    return sum(elements) / float(len(elements))\n",
    "\n",
    "def percentile(elements, perc=50):\n",
    "    perc_idx = int(len(elements) * perc / 100.0)\n",
    "    return sorted(elements)[perc_idx]"
   ]
  },
  {
   "cell_type": "code",
   "execution_count": 7,
   "metadata": {},
   "outputs": [
    {
     "name": "stdout",
     "output_type": "stream",
     "text": [
      "===========================================\n",
      "NETWORK COMPARISON SUMMARY:\n",
      "===========================================\n",
      "------------------------------------\n",
      "Method:   Geocert\n",
      "------------------------------------\n"
     ]
    },
    {
     "ename": "FileNotFoundError",
     "evalue": "[Errno 2] No such file or directory: '/home/justin/Projects/NN_cert_methods/Results/Geocert_out_17_mnist_small_l_2.pkl'",
     "output_type": "error",
     "traceback": [
      "\u001b[0;31m---------------------------------------------------------------------------\u001b[0m",
      "\u001b[0;31mFileNotFoundError\u001b[0m                         Traceback (most recent call last)",
      "\u001b[0;32m<ipython-input-7-ec76b6e59831>\u001b[0m in \u001b[0;36m<module>\u001b[0;34m\u001b[0m\n\u001b[1;32m     33\u001b[0m             \u001b[0mcwd\u001b[0m \u001b[0;34m=\u001b[0m \u001b[0mos\u001b[0m\u001b[0;34m.\u001b[0m\u001b[0mgetcwd\u001b[0m\u001b[0;34m(\u001b[0m\u001b[0;34m)\u001b[0m\u001b[0;34m\u001b[0m\u001b[0;34m\u001b[0m\u001b[0m\n\u001b[1;32m     34\u001b[0m             \u001b[0mfilename\u001b[0m \u001b[0;34m=\u001b[0m \u001b[0mcwd\u001b[0m \u001b[0;34m+\u001b[0m \u001b[0;34m\"/Results/\"\u001b[0m \u001b[0;34m+\u001b[0m \u001b[0mmethod\u001b[0m \u001b[0;34m+\u001b[0m \u001b[0;34m\"_out_\"\u001b[0m\u001b[0;34m+\u001b[0m\u001b[0mstr\u001b[0m\u001b[0;34m(\u001b[0m\u001b[0mnetwork_name\u001b[0m\u001b[0;34m[\u001b[0m\u001b[0;36m0\u001b[0m\u001b[0;34m:\u001b[0m\u001b[0;34m-\u001b[0m\u001b[0;36m4\u001b[0m\u001b[0;34m]\u001b[0m\u001b[0;34m)\u001b[0m\u001b[0;34m+\u001b[0m\u001b[0;34m\"_\"\u001b[0m\u001b[0;34m+\u001b[0m\u001b[0mlp_norm\u001b[0m\u001b[0;34m+\u001b[0m\u001b[0;34m\".pkl\"\u001b[0m\u001b[0;34m\u001b[0m\u001b[0;34m\u001b[0m\u001b[0m\n\u001b[0;32m---> 35\u001b[0;31m             \u001b[0mf\u001b[0m \u001b[0;34m=\u001b[0m \u001b[0mopen\u001b[0m\u001b[0;34m(\u001b[0m\u001b[0mfilename\u001b[0m\u001b[0;34m,\u001b[0m\u001b[0;34m\"rb\"\u001b[0m\u001b[0;34m)\u001b[0m\u001b[0;34m\u001b[0m\u001b[0;34m\u001b[0m\u001b[0m\n\u001b[0m\u001b[1;32m     36\u001b[0m             \u001b[0moutput_dict\u001b[0m \u001b[0;34m=\u001b[0m \u001b[0mpickle\u001b[0m\u001b[0;34m.\u001b[0m\u001b[0mload\u001b[0m\u001b[0;34m(\u001b[0m\u001b[0mf\u001b[0m\u001b[0;34m)\u001b[0m\u001b[0;34m\u001b[0m\u001b[0;34m\u001b[0m\u001b[0m\n\u001b[1;32m     37\u001b[0m             \u001b[0mf\u001b[0m\u001b[0;34m.\u001b[0m\u001b[0mclose\u001b[0m\u001b[0;34m(\u001b[0m\u001b[0;34m)\u001b[0m\u001b[0;34m\u001b[0m\u001b[0;34m\u001b[0m\u001b[0m\n",
      "\u001b[0;31mFileNotFoundError\u001b[0m: [Errno 2] No such file or directory: '/home/justin/Projects/NN_cert_methods/Results/Geocert_out_17_mnist_small_l_2.pkl'"
     ]
    }
   ],
   "source": [
    "##################################################################################\n",
    "#                                                                                #\n",
    "#                       Table Comparison Summary                                 #\n",
    "#                                                                                #\n",
    "##################################################################################\n",
    "\n",
    "\n",
    "model_path = os.getcwd() + \"/Models/\"\n",
    "network_names = [f for f in listdir(model_path) if isfile(join(model_path, f))]\n",
    "network_names = network_names[0:2]\n",
    "\n",
    "for network_name in network_names:\n",
    "    for lp_norm in ['l_2', 'l_inf']:\n",
    "\n",
    "        print('===========================================')\n",
    "        print('NETWORK COMPARISON SUMMARY:')\n",
    "        print('===========================================')\n",
    "\n",
    "        if lp_norm == 'l_2':\n",
    "            methods = ['Geocert', 'Lip_Lin']\n",
    "        elif lp_norm == 'l_inf':\n",
    "            methods = ['Geocert', 'Lip_Lin', 'MIP']\n",
    "        else:\n",
    "            raise NotImplementedError\n",
    "\n",
    "        for method in methods:\n",
    "            # =====================\n",
    "            # Load and Display Output\n",
    "            # =====================\n",
    "            print('------------------------------------')\n",
    "            print('Method:  ', method)\n",
    "            print('------------------------------------')\n",
    "            cwd = os.getcwd()\n",
    "            filename = cwd + \"/Results/\" + method + \"_out_\"+str(network_name[0:-4])+\"_\"+lp_norm+\".pkl\"\n",
    "            f = open(filename,\"rb\")\n",
    "            output_dict = pickle.load(f)\n",
    "            f.close()\n",
    "\n",
    "            for k, v in output_dict.items():\n",
    "                if k not in ['min_dists', 'pgd_dists', 'times']:\n",
    "                    continue\n",
    "                print('-' * 20, k, '-' * 20)\n",
    "                print('MEAN   ', mean(v))\n",
    "                print('25th   ', percentile(v, 25))\n",
    "                print('MEDIAN ', percentile(v, 50))\n",
    "                print('90     ', percentile(v, 90))\n",
    "                print('\\n')\n"
   ]
  },
  {
   "cell_type": "code",
   "execution_count": null,
   "metadata": {},
   "outputs": [],
   "source": []
  }
 ],
 "metadata": {
  "kernelspec": {
   "display_name": "Python 3",
   "language": "python",
   "name": "python3"
  },
  "language_info": {
   "codemirror_mode": {
    "name": "ipython",
    "version": 3
   },
   "file_extension": ".py",
   "mimetype": "text/x-python",
   "name": "python",
   "nbconvert_exporter": "python",
   "pygments_lexer": "ipython3",
   "version": "3.7.3"
  }
 },
 "nbformat": 4,
 "nbformat_minor": 2
}
