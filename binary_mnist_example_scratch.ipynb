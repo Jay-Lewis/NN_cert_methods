{
 "cells": [
  {
   "cell_type": "code",
   "execution_count": 1,
   "metadata": {},
   "outputs": [
    {
     "name": "stderr",
     "output_type": "stream",
     "text": [
      "/home/justin/.conda/envs/DeepL/lib/python3.7/site-packages/matplotlib/figure.py:98: MatplotlibDeprecationWarning: \n",
      "Adding an axes using the same arguments as a previous axes currently reuses the earlier instance.  In a future version, a new instance will always be created and returned.  Meanwhile, this warning can be suppressed, and the future behavior ensured, by passing a unique label to each axes instance.\n",
      "  \"Adding an axes using the same arguments as a previous axes \"\n"
     ]
    }
   ],
   "source": [
    "'''\n",
    "In this example, we build a binary MNIST classifier and then run GeoCert on several test points.\n",
    "'''\n",
    "\n",
    "# =====================\n",
    "# Imports\n",
    "# =====================\n",
    "# %load_ext line_profiler\n",
    "import sys\n",
    "sys.path.append('..')\n",
    "sys.path.append('../mister_ed') # library for adversarial examples\n",
    "from collections import defaultdict\n",
    "import geocert_oop as geo\n",
    "from domains import Domain\n",
    "from plnn import PLNN\n",
    "import _polytope_ as _poly_\n",
    "from _polytope_ import Polytope, Face\n",
    "import utilities as utils\n",
    "import os\n",
    "import time \n",
    "import pickle\n",
    "import matplotlib.pyplot as plt\n",
    "import numpy as np\n",
    "import torch\n",
    "import torch.nn as nn\n",
    "import torch.optim as optim\n",
    "from torch.autograd import Variable\n",
    "from torchvision import datasets, transforms\n",
    "\n",
    "\n",
    "from cvxopt import solvers, matrix\n",
    "import adversarial_perturbations as ap \n",
    "import prebuilt_loss_functions as plf\n",
    "import loss_functions as lf \n",
    "import adversarial_attacks as aa\n",
    "import utils.pytorch_utils as me_utils\n",
    "import torch\n",
    "import torch.nn as nn\n",
    "import torch.nn.functional as F\n",
    "import torch.optim as optim\n",
    "from torchvision import datasets, transforms\n",
    "\n",
    "import mnist.mnist_loader as  ml \n",
    "MNIST_DIM = 784\n",
    "\n"
   ]
  },
  {
   "cell_type": "code",
   "execution_count": 2,
   "metadata": {},
   "outputs": [],
   "source": [
    "##################################################################################\n",
    "#                                                                                #\n",
    "#                                TRAIN OR LOAD NEURAL NET                        #\n",
    "#                                                                                #\n",
    "##################################################################################\n",
    "\n",
    "# Define functions to train and evaluate a network \n",
    "\n",
    "def l1_loss(net):\n",
    "    return sum([_.norm(p=1) for _ in net.parameters() if _.dim() > 1])\n",
    "\n",
    "def l2_loss(net):\n",
    "    return sum([_.norm(p=2) for _ in net.parameters() if _.dim() > 1])\n",
    "  \n",
    "    \n",
    "def train(net, trainset, num_epochs):\n",
    "    opt = optim.Adam(net.parameters(), lr=1e-3, weight_decay=0)\n",
    "    for epoch in range(num_epochs):\n",
    "        err_acc = 0\n",
    "        err_count = 0\n",
    "        for data, labels in trainset:\n",
    "            output = net(Variable(data.view(-1, 784)))\n",
    "            l = nn.CrossEntropyLoss()(output, Variable(labels)).view([1])\n",
    "            l1_scale = torch.Tensor([2e-3])\n",
    "            l += l1_scale * l1_loss(net).view([1])\n",
    "            \n",
    "            err_acc += (output.max(1)[1].data != labels).float().mean() \n",
    "            err_count += 1\n",
    "            opt.zero_grad() \n",
    "            (l).backward() \n",
    "            opt.step() \n",
    "        print(\"(%02d) error:\" % epoch, err_acc / err_count)\n",
    "            \n",
    "        \n",
    "def test_acc(net, valset):\n",
    "    err_acc = 0 \n",
    "    err_count = 0 \n",
    "    for data, labels in valset:\n",
    "        n = data.shape[0]\n",
    "        output = net(Variable(data.view(-1, 784)))\n",
    "        err_acc += (output.max(1)[1].data != labels).float().mean() * n\n",
    "        err_count += n\n",
    "        \n",
    "    print(\"Accuracy of: %.03f\" % (1 - (err_acc / err_count).item()))"
   ]
  },
  {
   "cell_type": "code",
   "execution_count": 3,
   "metadata": {},
   "outputs": [
    {
     "name": "stdout",
     "output_type": "stream",
     "text": [
      "Loaded pretrained network\n",
      "Accuracy of: 0.988\n"
     ]
    }
   ],
   "source": [
    "NETWORK_NAME = '17_mnist_small.pkl'\n",
    "ONE_SEVEN_ONLY = True \n",
    "\n",
    "if ONE_SEVEN_ONLY:\n",
    "    trainset = ml.load_single_digits('train', [1, 7], batch_size=16, \n",
    "                                      shuffle=False)  \n",
    "    valset = ml.load_single_digits('val', [1, 7], batch_size=16, \n",
    "                                      shuffle=False)        \n",
    "else:    \n",
    "    trainset = ml.load_mnist_data('train', batch_size=128, shuffle=False)\n",
    "    valset = ml.load_mnist_data('val', batch_size=128, shuffle=False)\n",
    "\n",
    "\n",
    "try: \n",
    "    network = pickle.load(open(NETWORK_NAME, 'rb'))\n",
    "    net = network.net\n",
    "    print(\"Loaded pretrained network\")\n",
    "except:\n",
    "    print(\"Training a new network\")\n",
    "    \n",
    "    network = PLNN([MNIST_DIM, 10, 50, 10, 2])\n",
    "    net = network.net\n",
    "    train(net, trainset, 10)\n",
    "    pickle.dump(network, open(NETWORK_NAME, 'wb'))\n",
    "    \n",
    "test_acc(net, valset)    "
   ]
  },
  {
   "cell_type": "code",
   "execution_count": 7,
   "metadata": {
    "scrolled": true
   },
   "outputs": [
    {
     "name": "stdout",
     "output_type": "stream",
     "text": [
      "torch.Size([1, 28, 28])\n",
      "torch.Size([1, 28, 28])\n"
     ]
    },
    {
     "data": {
      "image/png": "[encoded data removed]",
      "text/plain": [
       "<Figure size 432x288 with 1 Axes>"
      ]
     },
     "metadata": {
      "needs_background": "light"
     },
     "output_type": "display_data"
    }
   ],
   "source": [
    "##############################################################################\n",
    "#                                                                            #\n",
    "#                               GEOCERT EXAMPLES                             #\n",
    "#                                                                            #\n",
    "##############################################################################\n",
    "# With a trained net, we can pick some examples and run GeoCert on them \n",
    "EXAMPLE_NUMBER = 7\n",
    "MINIBATCH_NUMBER = 9\n",
    "\n",
    "# Pick an example and display it \n",
    "for i, (data, labels) in enumerate(valset):\n",
    "    if i == MINIBATCH_NUMBER:\n",
    "        break\n",
    "example = data[EXAMPLE_NUMBER]\n",
    "true_label = network(example).squeeze().max(0)[1].item()\n",
    "print(example.shape)\n",
    "plt.gray()\n",
    "plt.imshow(example.squeeze())"
   ]
  },
  {
   "cell_type": "code",
   "execution_count": 5,
   "metadata": {},
   "outputs": [
    {
     "name": "stdout",
     "output_type": "stream",
     "text": [
      "Starting upper bound computation\n",
      "Upper bound of 1.837023138999939 in 4.49 seconds\n",
      "---Initial Polytope---\n",
      "REJECT DICT:  {'dead_constraints': 66}\n",
      "Pushed 2/4 facets\n",
      "---Opening New Polytope---\n",
      "Bounds  0.04750784851177843   |   0.5782353272507891\n",
      "REJECT DICT:  {'dead_constraints': 66, 'upper_bound': 1, 'seen before': 1}\n",
      "Pushed 0/2 facets\n",
      "----------Minimal Projection Generated----------\n",
      "DIST:  0.5782353272507891\n",
      "5.357353210449219\n"
     ]
    }
   ],
   "source": [
    "start = time.time() \n",
    "cert_obj = geo.IncrementalGeoCert(network, verbose=True, config_fxn='parallel', \n",
    "                                  config_fxn_kwargs={'num_jobs': 1},\n",
    "                                  hyperbox_bounds=[0.0, 1.0])\n",
    "out = cert_obj.min_dist(example.view(-1, 1), lp_norm='l_2', compute_upper_bound={'random_init': 0.3})\n",
    "end = time.time()\n",
    "\n",
    "print(end - start)"
   ]
  },
  {
   "cell_type": "code",
   "execution_count": 6,
   "metadata": {
    "scrolled": true
   },
   "outputs": [
    {
     "name": "stdout",
     "output_type": "stream",
     "text": [
      "Starting upper bound computation\n",
      "Upper bound of 2.1004011631011963 in 4.18 seconds\n",
      "---Initial Polytope---\n",
      "REJECT DICT:  {'dead_constraints': 65}\n",
      "Pushed 3/5 facets\n",
      "---Opening New Polytope---\n",
      "Bounds  0.047503667291113195   |   0.5782330548043058\n",
      "REJECT DICT:  {'dead_constraints': 65, 'upper_bound': 2, 'seen before': 1}\n",
      "Pushed 0/2 facets\n",
      "----------Minimal Projection Generated----------\n",
      "DIST:  0.5782330548043058\n",
      "Found an adversarial example at dist 0.5782330548043058  in 5.11 seconds \n",
      "Adversarial attack found example at distance 2.1004011631011963\n",
      "Original output was  [[-1.26114  1.5154 ]]\n",
      "Adversarial output was  [[0.08303 0.08137]]\n"
     ]
    },
    {
     "data": {
      "image/png": "[encoded data removed]",
      "text/plain": [
       "<Figure size 864x864 with 3 Axes>"
      ]
     },
     "metadata": {
      "needs_background": "light"
     },
     "output_type": "display_data"
    }
   ],
   "source": [
    "# Builds an object used to to hold algorithm parameters\n",
    "geocert = geo.IncrementalGeoCert(network, verbose=True, config_fxn='parallel', \n",
    "                                 config_fxn_kwargs={'num_jobs': 4})\n",
    "# Runs the algorithm\n",
    "start = time.time()\n",
    "output = cert_obj.min_dist(example.view(1, -1), lp_norm='l_2', compute_upper_bound=True)\n",
    "lp_dist, adv_ex_bound, adv_ex, best_example, boundary_facet = output\n",
    "end = time.time() \n",
    "\n",
    "# Prints outputs\n",
    "print(\"Found an adversarial example at dist\", lp_dist, \" in %.02f seconds \" % (end - start))\n",
    "if adv_ex_bound is not None:\n",
    "    print(\"Adversarial attack found example at distance\", adv_ex_bound)\n",
    "original_logits = network(example)\n",
    "adver_logits = network(torch.Tensor(adv_ex).view(1, 28, 28))\n",
    "print(\"Original output was \", original_logits.data.cpu().numpy())\n",
    "print(\"Adversarial output was \", adver_logits.data.cpu().numpy())\n",
    "\n",
    "# Display the adversarial examples \n",
    "to_displays = [(example.cpu().numpy().reshape((28, 28)), 'Original'), \n",
    "               (best_example.reshape((28, 28)), 'GeoCert')]\n",
    "if adv_ex is not None: \n",
    "    to_displays.append((adv_ex.reshape((28, 28)), 'Standard Adv Attack'))\n",
    "f, axarr = plt.subplots(1, len(to_displays), figsize=(12, 12))\n",
    "for i in range(len(to_displays)):\n",
    "    axarr[i].imshow(to_displays[i][0])\n",
    "    axarr[i].set_title(to_displays[i][1])\n"
   ]
  },
  {
   "cell_type": "code",
   "execution_count": null,
   "metadata": {},
   "outputs": [],
   "source": []
  }
 ],
 "metadata": {
  "kernelspec": {
   "display_name": "Python 3",
   "language": "python",
   "name": "python3"
  },
  "language_info": {
   "codemirror_mode": {
    "name": "ipython",
    "version": 3
   },
   "file_extension": ".py",
   "mimetype": "text/x-python",
   "name": "python",
   "nbconvert_exporter": "python",
   "pygments_lexer": "ipython3",
   "version": "3.7.3"
  }
 },
 "nbformat": 4,
 "nbformat_minor": 2
}
